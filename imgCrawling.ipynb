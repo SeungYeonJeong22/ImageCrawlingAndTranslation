{
 "cells": [
  {
   "cell_type": "markdown",
   "metadata": {},
   "source": [
    "<h1>네이버 크롤링</h1>"
   ]
  },
  {
   "cell_type": "code",
   "execution_count": 8,
   "metadata": {},
   "outputs": [
    {
     "name": "stdout",
     "output_type": "stream",
     "text": [
      "다운로드 완료\n"
     ]
    }
   ],
   "source": [
    "#네이버\n",
    "from selenium import webdriver\n",
    "from selenium.webdriver.common.keys import Keys\n",
    "from bs4 import BeautifulSoup\n",
    "import urllib.request\n",
    "import time\n",
    "import os\n",
    "\n",
    "options = webdriver.ChromeOptions()\n",
    "options.add_argument('headless')\n",
    "driver = webdriver.Chrome('/Users/sanengr/Downloads/chromedriver',options=options)\n",
    "\n",
    "driver.get('https://search.naver.com/search.naver?sm=tab_hty.top&where=image&query=%EA%B3%A8%ED%94%84+%EC%A0%95%EB%A9%B4+%EC%8A%A4%EC%9C%99&oquery=%EA%B3%A8%ED%94%84+%EC%9E%90%EC%84%B8&tqi=UJLgcsprvhGsskJHi9Gsssssseo-044589')\n",
    "down_Scroll = 300\n",
    "for i in range(down_Scroll):\n",
    "    body = driver.find_element_by_tag_name('body')\n",
    "    body.send_keys(Keys.PAGE_DOWN)\n",
    "    \n",
    "html = driver.page_source\n",
    "soup = BeautifulSoup(html, \"html.parser\")    \n",
    "img = soup.find_all(class_='_img')\n",
    "\n",
    "fPath = './ori_image/'\n",
    "try:\n",
    "    if os.listdir(fPath) == []:\n",
    "        n = 1\n",
    "    else:\n",
    "        n = len(os.listdir(fPath))+1\n",
    "\n",
    "    for t,i in enumerate(img):\n",
    "        try:\n",
    "            imgUrl = i['src']\n",
    "            with urllib.request.urlopen(imgUrl) as f:\n",
    "                with open(fPath + str(n)+'.jpg','wb') as h:\n",
    "                    img_n = f.read()\n",
    "                    h.write(img_n)\n",
    "            n += 1\n",
    "        except:\n",
    "            print('i.index : {}\\n{}'.format(t,i))\n",
    "            break\n",
    "\n",
    "    print('다운로드 완료')\n",
    "except:\n",
    "    print('except')\n",
    "    "
   ]
  },
  {
   "cell_type": "markdown",
   "metadata": {},
   "source": [
    "<h1>구글 크롤링</h1>"
   ]
  },
  {
   "cell_type": "code",
   "execution_count": 107,
   "metadata": {},
   "outputs": [
    {
     "name": "stdout",
     "output_type": "stream",
     "text": [
      "<<<<<<<<<<<<<<<<i <img alt=\"보기만해도 도움되는 더스틴존슨 측면, 정면 드라이버 스윙 | 골프스윙-cabapo024\" class=\"rg_i Q4LuWd\" data-atf=\"false\" data-deferred=\"1\" data-iml=\"3618.275000000722\" height=\"195\" jsname=\"Q4LuWd\" src=\"https://encrypted-tbn0.gstatic.com/images?q=tbn:ANd9GcQKfojQ75m2scYfdlX9ugpfoRNguduZtvnZcg&amp;usqp=CAU\" width=\"259\"/>\n",
      "<<<<<<<<<<<<<<<<i[\"src\"] https://encrypted-tbn0.gstatic.com/images?q=tbn:ANd9GcQKfojQ75m2scYfdlX9ugpfoRNguduZtvnZcg&usqp=CAU\n",
      "<<<<<<<<<<<<<<<<e HTTP Error 404: Not Found\n",
      "imgUrl : https://encrypted-tbn0.gstatic.com/images?q=tbn:ANd9GcQKfojQ75m2scYfdlX9ugpfoRNguduZtvnZcg&usqp=CAU\n",
      "i.index : 19\n",
      "<img alt=\"보기만해도 도움되는 더스틴존슨 측면, 정면 드라이버 스윙 | 골프스윙-cabapo024\" class=\"rg_i Q4LuWd\" data-atf=\"false\" data-deferred=\"1\" data-iml=\"3618.275000000722\" height=\"195\" jsname=\"Q4LuWd\" src=\"https://encrypted-tbn0.gstatic.com/images?q=tbn:ANd9GcQKfojQ75m2scYfdlX9ugpfoRNguduZtvnZcg&amp;usqp=CAU\" width=\"259\"/>\n",
      "다운로드 실패\n",
      "다운로드 완료\n"
     ]
    }
   ],
   "source": [
    "#구글링\n",
    "from selenium import webdriver\n",
    "from selenium.webdriver.common.keys import Keys\n",
    "from bs4 import BeautifulSoup\n",
    "import urllib.request\n",
    "import time\n",
    "import os\n",
    "\n",
    "options = webdriver.ChromeOptions()\n",
    "options.add_argument('headless')\n",
    "driver = webdriver.Chrome('/Users/sanengr/Downloads/chromedriver',options=options)\n",
    "\n",
    "driver.get('https://www.google.com/search?q=%EA%B3%A8%ED%94%84%EC%A0%95%EB%A9%B4&tbm=isch&ved=2ahUKEwiC8pfoxYjtAhUNfpQKHR0qAW4Q2-cCegQIABAA&oq=%EA%B3%A8%ED%94%84%EC%A0%95%EB%A9%B4&gs_lcp=CgNpbWcQA1C8lw5YzZkOYK2bDmgAcAB4AIABzgGIAdMDkgEFMC4yLjGYAQCgAQGqAQtnd3Mtd2l6LWltZ8ABAQ&sclient=img&ei=MzezX8IMjfzRBJ3UhPAG&bih=647&biw=1280&rlz=1C5CHFA_enKR926KR926&hl=ko')\n",
    "down_Scroll = 300\n",
    "for i in range(down_Scroll):\n",
    "    body = driver.find_element_by_tag_name('body')\n",
    "    body.send_keys(Keys.PAGE_DOWN)\n",
    "    \n",
    "html = driver.page_source\n",
    "soup = BeautifulSoup(html, \"html.parser\") \n",
    "img = soup.find_all(class_='rg_i Q4LuWd')\n",
    "\n",
    "fPath = './ori_image/'\n",
    "try:\n",
    "    if os.listdir(fPath) == []:\n",
    "        n = 1\n",
    "    else:\n",
    "        n = len(os.listdir(fPath))+1\n",
    "\n",
    "    for t,i in enumerate(img):\n",
    "        try:\n",
    "            if not i.get('src') == None:\n",
    "#                 if 'https://encrypted-tbn0.gstatic.com/' in i['src']:\n",
    "#                     continue\n",
    "                imgUrl = i['src']\n",
    "            else:\n",
    "                continue\n",
    "\n",
    "            with urllib.request.urlopen(imgUrl) as f:\n",
    "                with open(fPath + str(n)+'.jpg','wb') as h:\n",
    "                    img_n = f.read()\n",
    "                    h.write(img_n)\n",
    "            n += 1\n",
    "        except Exception as e:\n",
    "            print('<<<<<<<<<<<<<<<<i',i)\n",
    "            print('<<<<<<<<<<<<<<<<i[\"src\"]',i['src'])\n",
    "            print(\"<<<<<<<<<<<<<<<<e\",e)\n",
    "            if not i.get('data-src') == None:\n",
    "                print('data-src : {}'.format(i['data-src'][:35]))\n",
    "            print('imgUrl : {}\\ni.index : {}\\n{}'.format(imgUrl,t,i))\n",
    "            print('다운로드 실패')\n",
    "            break\n",
    "\n",
    "    print('다운로드 완료')\n",
    "except Exception as e:\n",
    "    print(e)\n",
    "    "
   ]
  },
  {
   "cell_type": "markdown",
   "metadata": {},
   "source": [
    "<h1>다음 크롤링</h1>"
   ]
  },
  {
   "cell_type": "code",
   "execution_count": 1,
   "metadata": {},
   "outputs": [
    {
     "name": "stdout",
     "output_type": "stream",
     "text": [
      "다운로드 완료\n"
     ]
    }
   ],
   "source": [
    "#다음\n",
    "from selenium import webdriver\n",
    "from selenium.webdriver.common.keys import Keys\n",
    "from bs4 import BeautifulSoup\n",
    "import urllib.request\n",
    "import time\n",
    "import os\n",
    "\n",
    "options = webdriver.ChromeOptions()\n",
    "options.add_argument('headless')\n",
    "driver = webdriver.Chrome('/Users/sanengr/Downloads/chromedriver',options=options)\n",
    "\n",
    "driver.get('https://search.daum.net/search?nil_suggest=btn&w=img&DA=SBC&q=%EA%B3%A8%ED%94%84+%EC%8A%A4%EC%9C%99+%ED%8F%BC')\n",
    "down_Scroll = 300\n",
    "for i in range(down_Scroll):\n",
    "    body = driver.find_element_by_tag_name('body')\n",
    "    body.send_keys(Keys.PAGE_DOWN)\n",
    "    \n",
    "html = driver.page_source\n",
    "soup = BeautifulSoup(html, \"html.parser\") \n",
    "img = soup.find_all(class_='thumb_img')\n",
    "\n",
    "fPath = './ori_image/'\n",
    "try:\n",
    "    if os.listdir(fPath) == []:\n",
    "        n = 1\n",
    "    else:\n",
    "        n = len(os.listdir(fPath))+1\n",
    "\n",
    "    for t,i in enumerate(img):\n",
    "        try:\n",
    "            if not i.get('src') == None:\n",
    "#                 if 'https://encrypted-tbn0.gstatic.com/' in i['src']:\n",
    "#                     continue\n",
    "                imgUrl = i['src']\n",
    "            else:\n",
    "                continue\n",
    "\n",
    "            with urllib.request.urlopen(imgUrl) as f:\n",
    "                with open(fPath + str(n)+'.jpg','wb') as h:\n",
    "                    img_n = f.read()\n",
    "                    h.write(img_n)\n",
    "            n += 1\n",
    "        except Exception as e:\n",
    "            print('<<<<<<<<<<<<<<<<i',i)\n",
    "            print('<<<<<<<<<<<<<<<<i[\"src\"]',i['src'])\n",
    "            print(\"<<<<<<<<<<<<<<<<e\",e)\n",
    "            if not i.get('data-src') == None:\n",
    "                print('data-src : {}'.format(i['data-src'][:35]))\n",
    "            print('imgUrl : {}\\ni.index : {}\\n{}'.format(imgUrl,t,i))\n",
    "            print('다운로드 실패')\n",
    "            break\n",
    "\n",
    "    print('다운로드 완료')\n",
    "except Exception as e:\n",
    "    print(e)\n",
    "    "
   ]
  },
  {
   "cell_type": "markdown",
   "metadata": {},
   "source": [
    "<h1>크롤링할 때 이미지 개수</h1>"
   ]
  },
  {
   "cell_type": "code",
   "execution_count": 88,
   "metadata": {},
   "outputs": [
    {
     "name": "stdout",
     "output_type": "stream",
     "text": [
      "400\n"
     ]
    }
   ],
   "source": [
    "driver.get('https://www.google.com/search?q=%EA%B3%A8%ED%94%84%EC%A0%95%EB%A9%B4&tbm=isch&ved=2ahUKEwiC8pfoxYjtAhUNfpQKHR0qAW4Q2-cCegQIABAA&oq=%EA%B3%A8%ED%94%84%EC%A0%95%EB%A9%B4&gs_lcp=CgNpbWcQA1C8lw5YzZkOYK2bDmgAcAB4AIABzgGIAdMDkgEFMC4yLjGYAQCgAQGqAQtnd3Mtd2l6LWltZ8ABAQ&sclient=img&ei=MzezX8IMjfzRBJ3UhPAG&bih=647&biw=1280&rlz=1C5CHFA_enKR926KR926&hl=ko')\n",
    "down_Scroll = 400\n",
    "for i in range(down_Scroll):\n",
    "    body = driver.find_element_by_tag_name('body')\n",
    "    body.send_keys(Keys.PAGE_DOWN)\n",
    "    \n",
    "html = driver.page_source\n",
    "soup = BeautifulSoup(html, \"html.parser\") \n",
    "img = soup.find_all(class_='rg_i Q4LuWd')\n",
    "print(len(img))"
   ]
  },
  {
   "cell_type": "raw",
   "metadata": {},
   "source": [
    "#2000 - 400\n",
    "#1000 - 400\n",
    "#500 - 400\n",
    "#250 - 400\n",
    "#100 - 200\n"
   ]
  },
  {
   "cell_type": "markdown",
   "metadata": {},
   "source": [
    "<h1>파일 내 이름 재정의 (삭제하고 난 후 엉망이 된 번호 정리) </h1>"
   ]
  },
  {
   "cell_type": "code",
   "execution_count": 102,
   "metadata": {},
   "outputs": [
    {
     "name": "stdout",
     "output_type": "stream",
     "text": [
      "54\n"
     ]
    }
   ],
   "source": [
    "tmp_a = './tmp_im2'\n",
    "\n",
    "n = 1\n",
    "# print(os.listdir(tmp_a))\n",
    "for i in os.listdir(tmp_a):\n",
    "#     print(i)\n",
    "#     break\n",
    "    os.rename('./tmp_im2/' + i,'./tmp_im2/' + str(n) + '.jpg')\n",
    "    n+=1\n",
    "print(len(os.listdir(tmp_a)))"
   ]
  },
  {
   "cell_type": "markdown",
   "metadata": {},
   "source": [
    "<h1>csv로 이미지 조정 (scale, 화면 위치 등등) </h1>"
   ]
  },
  {
   "cell_type": "code",
   "execution_count": 2,
   "metadata": {},
   "outputs": [
    {
     "name": "stdout",
     "output_type": "stream",
     "text": [
      "216\n",
      "104\n",
      "완료\n"
     ]
    }
   ],
   "source": [
    "#랜덤으로 함수 실행해서 img갯수 2배만큼만 늘리기\n",
    "import cv2\n",
    "import numpy as np\n",
    "import random\n",
    "import os\n",
    "\n",
    "fpath = './start_pos1'\n",
    "fpath2 = './end_pos1'\n",
    "\n",
    "#뭔진 모르겠는데 파일 조작하다보면 MAC자체에서 DS_Store라는게 생김\n",
    "#이거 처리해줘야 스케일링,복사 등 가능\n",
    "if '.DS_Store' in os.listdir(fpath):\n",
    "    os.remove(fpath+'.DS_Store')\n",
    "if '.DS_Store' in os.listdir(fpath2):\n",
    "    os.remove(fpath2+'.DS_Store')\n",
    "\n",
    "#파일이 없으면 1부터 있으면 제일 마지막 +1부터 시작\n",
    "if os.listdir(fpath) == []:\n",
    "    n = 1\n",
    "else:\n",
    "    n = len(os.listdir(fpath))\n",
    "    \n",
    "if os.listdir(fpath2) == []:\n",
    "    n2 = 1\n",
    "else:\n",
    "    n2 = len(os.listdir(fpath2))    \n",
    "    \n",
    "    \n",
    "def scaling(params):\n",
    "    img = cv2.imread(params['RimgFullPath'])\n",
    "    dst = cv2.resize(img,None,fx = 1.3,fy=1.3,interpolation = cv2.INTER_LINEAR)\n",
    "    \n",
    "    cv2.imwrite(params['WimgFullPath'],dst)\n",
    "\n",
    "def rotate(params):\n",
    "    img = cv2.imread(params['RimgFullPath'])\n",
    "\n",
    "    rows, cols = img.shape[:2]\n",
    "    M= cv2.getRotationMatrix2D((cols/2, rows/2),90, 0.5)\n",
    "    dst = cv2.warpAffine(img, M,(cols, rows))\n",
    "\n",
    "    cv2.imwrite(params['WimgFullPath'],dst)\n",
    "\n",
    "def affine_T(params):\n",
    "    img = cv2.imread(params['RimgFullPath'])\n",
    "\n",
    "    rows, cols, ch = img.shape\n",
    "    pts1 = np.float32([[200,100],[400,100],[200,200]])\n",
    "    pts2 = np.float32([[200,300],[400,200],[200,400]])\n",
    "\n",
    "    cv2.circle(img, (200,100), 10, (255,0,0),-1)\n",
    "    cv2.circle(img, (400,100), 10, (0,255,0),-1)\n",
    "    cv2.circle(img, (200,200), 10, (0,0,255),-1)\n",
    "\n",
    "    M = cv2.getAffineTransform(pts1, pts2)\n",
    "    dst = cv2.warpAffine(img, M, (cols,rows))\n",
    "\n",
    "    cv2.imwrite(params['WimgFullPath'],dst)\n",
    "\n",
    "params = {\n",
    "    'RimgFullPath':fpath + str(i) +'jpg'\n",
    "    'WimgFullPath':fpath + str(n) +'jpg',\n",
    "}\n",
    "func = [scaling(params),rotate(params),affine_T(params)]\n",
    "random.sample(func,1)\n",
    "# for t,i in enumerate(os.listdir(fpath)):\n",
    "#     try:\n",
    "#         img = cv2.imread(fpath + '/' + i)\n",
    "#         img_scale = cv2.resize(img,None,fx = 1.3,fy=1.3,interpolation = cv2.INTER_LINEAR)\n",
    "#         cv2.imwrite(fpath + '/' + str(n) + '.jpg',img_scale)\n",
    "#         n+=1\n",
    "#     except:\n",
    "#         print(t,i)\n",
    "# # for z in range(2):        \n",
    "# for t,i in enumerate(os.listdir(fpath2)):\n",
    "#     try:\n",
    "#         img = cv2.imread(fpath2 + '/' + i)\n",
    "#         img_scale = cv2.resize(img,None,fx = 0.8,fy=1.2,interpolation = cv2.INTER_LINEAR)\n",
    "#         cv2.imwrite(fpath2 + '/' + str(n2) + '.jpg',img_scale)\n",
    "#         n2+=1\n",
    "#     except:\n",
    "#         print(t,i)\n",
    "#         if t > 500:\n",
    "#             break\n",
    "        \n",
    "\n",
    "print(len(os.listdir(fpath)))\n",
    "print(len(os.listdir(fpath2)))\n",
    "print('완료')"
   ]
  },
  {
   "cell_type": "markdown",
   "metadata": {},
   "source": [
    "<h1>골프 준비 사진 start_pos1 / end_pos1 폴더에 옮기기</h1>"
   ]
  },
  {
   "cell_type": "code",
   "execution_count": 24,
   "metadata": {},
   "outputs": [
    {
     "name": "stdout",
     "output_type": "stream",
     "text": [
      "끝\n"
     ]
    }
   ],
   "source": [
    "import os\n",
    "import shutil\n",
    "\n",
    "#a = start자세 파일 번호\n",
    "a = [2,3,4,6,8,9,10,11,12,13,14,19,20,21,22,23,27,28,29,31,32,36,37,38,40,41,43,44,45,49,50,53,55,56,59,62,63,65,67,70,72,73,74,76,77,78,81,82,85,86,89,90,91,92,93,95,96,97,98,100,101,103,104,107,108,109,110,111,112,113,117,118,119,120,123,124,126,127,128,129,133,134,135,137,138,142,143,145,146,150,151,152,153,157,158,159,160,161,162,168,170,172,173,175,176,178,179,180,183,184,185,186,187,188,189,191,194,196,198,199,200,202,203,205,208,209,210,212,214,215,216,217,218,219,222,224,225,226,227,228,229,230,234,236,237,238,240,241,242,244,245,246,247,251,254,257,258,259,260,262,263,264,265,268,270,271,272,273,274,275,276,277,278,280,281,282,284,286,287,288,297,298,299,300,302,303,306,307,310,311,315,316,317,318,321,322,323,325,326,329,330,331,334,335,336,340,342,344,345,346,348,349,350,351,353,354,358,360,\n",
    "362,363,364,365,367,368,369,370,371,372,373,374,375,377,378,381,382,383,384,385,386,387,389,390,391]\n",
    "st_pos = []\n",
    "ed_pos = []\n",
    "f_path = './tmp_im'\n",
    "\n",
    "shutil.rmtree('./start_pos1')\n",
    "shutil.rmtree('./end_pos1')\n",
    "\n",
    "try:\n",
    "    if not os.path.exists('./start_pos1'):\n",
    "        os.makedirs('./start_pos1')\n",
    "    if not os.path.exists('./end_pos1'):\n",
    "        os.makedirs('./end_pos1')\n",
    "except Exception as e:\n",
    "    print(e)    \n",
    "\n",
    "#a에 jpg더한 이름이 tmp_im에서 있으면 st_pos에 추가\n",
    "for i in range(1,len(os.listdir(f_path))): \n",
    "    if i in a:\n",
    "        if os.path.exists(f_path + '/' + str(i) + '.jpg'):\n",
    "            if not os.path.exists('./start_pos1/' + str(i) + '.jpg'):\n",
    "                st_pos.append(str(i)+'.jpg')\n",
    "    else:\n",
    "        if os.path.exists(f_path + '/' + str(i) + '.jpg'):\n",
    "            if not os.path.exists('./end_pos1/' + str(i) + '.jpg'):\n",
    "                ed_pos.append(str(i)+'.jpg')\n",
    "    continue\n",
    "    \n",
    "try:\n",
    "    for i in range(1,len(os.listdir(f_path))):\n",
    "        if str(i)+'.jpg' in st_pos:\n",
    "            if not os.path.exists('./start_pos1/' + str(i) + '.jpg'):\n",
    "                shutil.copy(f_path + '/' + str(i) +'.jpg', './start_pos1/' + str(i) +'.jpg')\n",
    "        elif str(i)+'.jpg' in ed_pos:\n",
    "            if not os.path.exists('./end_pos1/' + str(i) + '.jpg'):\n",
    "                shutil.copy(f_path + '/' + str(i) +'.jpg', './end_pos1/' + str(i) +'.jpg')\n",
    "        else:\n",
    "            continue\n",
    "    print('끝')\n",
    "except Exception as e:\n",
    "    print(e)"
   ]
  },
  {
   "cell_type": "code",
   "execution_count": 112,
   "metadata": {},
   "outputs": [
    {
     "data": {
      "text/plain": [
       "'./res_image'"
      ]
     },
     "execution_count": 112,
     "metadata": {},
     "output_type": "execute_result"
    }
   ],
   "source": [
    "shutil.rmtree('./res_image')\n",
    "shutil.copytree('./tmp_im','./res_image')"
   ]
  },
  {
   "cell_type": "code",
   "execution_count": 106,
   "metadata": {},
   "outputs": [
    {
     "name": "stdout",
     "output_type": "stream",
     "text": [
      "375\n",
      "375\n"
     ]
    }
   ],
   "source": [
    "f_path  = './tmp_im'\n",
    "cf_path = './tmp_im2'\n",
    "\n",
    "if '.DS_Store' in os.listdir(f_path):\n",
    "    os.remove(f_path + '/.DS_Store')\n",
    "\n",
    "for i in os.listdir(f_path):\n",
    "    if os.path.exists(cf_path):\n",
    "        shutil.rmtree(cf_path)\n",
    "\n",
    "shutil.copytree(f_path,cf_path)\n",
    "print(len(os.listdir(f_path)))\n",
    "print(len(os.listdir(cf_path)))\n"
   ]
  },
  {
   "cell_type": "code",
   "execution_count": 111,
   "metadata": {},
   "outputs": [],
   "source": [
    "rem = [52,57,136,154,156,166,169,177,190,193,201,207,213,231,261,266,361]\n",
    "for i in range(len(rem)):\n",
    "    rem[i] = str(rem[i]) + '.jpg'\n",
    "rem.append('.DS_Store')\n",
    "\n",
    "# print(rem)\n",
    "for i in rem:\n",
    "    if i in os.listdir('./tmp_im'):\n",
    "        os.remove('./tmp_im/' + i)\n",
    "\n",
    "# for i in os.listdir('./tmp_im'):\n",
    "#     if os.path.exists('./tmp_im2'):\n",
    "#         shutil.rmtree('./tmp_im2')\n",
    "\n",
    "# shutil.copytree('./tmp_im','./tmp_im2')\n",
    "# print(len(os.listdir('./tmp_im')))\n",
    "# print(len(os.listdir('./tmp_im2')))\n",
    "\n"
   ]
  },
  {
   "cell_type": "markdown",
   "metadata": {},
   "source": [
    "<h1>너무 같으면 안되니까 랜덤으로 scailing,rotation,affine_transform적용</h1>"
   ]
  },
  {
   "cell_type": "code",
   "execution_count": 117,
   "metadata": {},
   "outputs": [
    {
     "name": "stdout",
     "output_type": "stream",
     "text": [
      "13116\n",
      "10404\n",
      "완료\n"
     ]
    }
   ],
   "source": [
    "import cv2\n",
    "import numpy as np\n",
    "import random\n",
    "import os\n",
    "import shutil\n",
    "\n",
    "fpath = './start_pos1'\n",
    "fpath2 = './end_pos1'\n",
    "\n",
    "if os.path.exists(fpath):\n",
    "    shutil.rmtree(fpath)\n",
    "shutil.copytree(fpath + ' 복사본 2',fpath)\n",
    "    \n",
    "if os.path.exists(fpath2):\n",
    "    shutil.rmtree(fpath2)\n",
    "shutil.copytree(fpath2 + ' 복사본 2',fpath2)\n",
    "\n",
    "#뭔진 모르겠는데 파일 조작하다보면 MAC자체에서 DS_Store라는게 생김\n",
    "#이거 처리해줘야 스케일링,복사 등 가능\n",
    "if '.DS_Store' in os.listdir(fpath):\n",
    "    os.remove(fpath+'.DS_Store')\n",
    "if '.DS_Store' in os.listdir(fpath2):\n",
    "    os.remove(fpath2+'.DS_Store')\n",
    "    \n",
    "def scaling(params):\n",
    "    img = cv2.imread(params['RimgFullPath'])\n",
    "    #random x, random y\n",
    "    rx = round(random.uniform(0.8, 1.4),1)\n",
    "    ry = round(random.uniform(0.8, 1.4),1)\n",
    "    dst = cv2.resize(img,None,fx = rx,fy = ry,interpolation = cv2.INTER_LINEAR)\n",
    "    \n",
    "    cv2.imwrite(params['WimgFullPath'],dst)\n",
    "\n",
    "def rotate(params):\n",
    "    img = cv2.imread(params['RimgFullPath'])\n",
    "\n",
    "    rows, cols = img.shape[:2]\n",
    "    #random rotation\n",
    "    rr = random.randint(1,3)\n",
    "    M= cv2.getRotationMatrix2D((cols/2, rows/2),rr, 0.5)\n",
    "    dst = cv2.warpAffine(img, M,(cols, rows))\n",
    "\n",
    "    cv2.imwrite(params['WimgFullPath'],dst)\n",
    "\n",
    "def affine_T(params):\n",
    "    img = cv2.imread(params['RimgFullPath'])\n",
    "\n",
    "    rows, cols, ch = img.shape\n",
    "    #randomvalue\n",
    "    rvx = random.randint(-5,5)\n",
    "    rvy = random.randint(-5,5)\n",
    "    rvz = random.randint(-5,5)\n",
    "    pts1 = np.float32([[200,100],[400,100],[200,200]])\n",
    "    pts2 = np.float32([[200+rvx,100+rvx],[400+rvy,100+rvy],[200+rvz,200+rvz]])\n",
    "\n",
    "    M = cv2.getAffineTransform(pts1, pts2)\n",
    "    dst = cv2.warpAffine(img, M, (cols,rows))\n",
    "\n",
    "    cv2.imwrite(params['WimgFullPath'],dst)\n",
    "    \n",
    "func = ['scaling(params)','rotate(params)','affine_T(params)']        \n",
    "    \n",
    "    \n",
    "for z in range(60):\n",
    "    if os.listdir(fpath2) == []:\n",
    "        n = 1\n",
    "    else:\n",
    "        b = []\n",
    "        for i in os.listdir(fpath):\n",
    "            b.append(int(i[:-4]))\n",
    "        b.sort()\n",
    "        n = b[-1]\n",
    "    for t,i in enumerate(os.listdir(fpath +' 복사본 2')):\n",
    "        try:\n",
    "            params = {\n",
    "                'RimgFullPath':fpath +' 복사본 2' + '/' + str(i),\n",
    "                'WimgFullPath':fpath + '/' + str(n) +'.jpg'\n",
    "            }\n",
    "            sel_func = random.sample(func,1)[0]\n",
    "            \n",
    "            if sel_func == 'scaling(params)':\n",
    "                scaling(params)\n",
    "            elif sel_func == 'rotate(params)':\n",
    "                rotate(params)\n",
    "            elif sel_func == 'affine_T(params)':\n",
    "                affine_T(params)\n",
    "\n",
    "            n+=1\n",
    "        except Exception as e:\n",
    "            print(e)\n",
    "            print('>>>t\\ti',t,i)\n",
    "            \n",
    "for z in range(100):        \n",
    "    if os.listdir(fpath2) == []:\n",
    "        n = 1\n",
    "    else:\n",
    "        b = []\n",
    "        for i in os.listdir(fpath2):\n",
    "            b.append(int(i[:-4]))\n",
    "        b.sort()\n",
    "        n = b[-1]\n",
    "    for t,i in enumerate(os.listdir(fpath2 +' 복사본 2')):\n",
    "        try:\n",
    "            params = {\n",
    "                'RimgFullPath':fpath2 +' 복사본 2' + '/' + str(i),\n",
    "                'WimgFullPath':fpath2 + '/' + str(n) +'.jpg'\n",
    "            }\n",
    "            sel_func = random.sample(func,1)[0]\n",
    "            \n",
    "            if sel_func == 'scaling(params)':\n",
    "                scaling(params)\n",
    "            elif sel_func == 'rotate(params)':\n",
    "                rotate(params)\n",
    "            elif sel_func == 'affine_T(params)':\n",
    "                affine_T(params)\n",
    "            \n",
    "            n+=1\n",
    "        except Exception as e:\n",
    "            print(e)\n",
    "            print('>>>t\\ti',t,i)\n",
    "\n",
    "print(len(os.listdir(fpath)))\n",
    "print(len(os.listdir(fpath2)))\n",
    "print('완료')"
   ]
  },
  {
   "cell_type": "code",
   "execution_count": 21,
   "metadata": {},
   "outputs": [
    {
     "data": {
      "text/plain": [
       "True"
      ]
     },
     "execution_count": 21,
     "metadata": {},
     "output_type": "execute_result"
    }
   ],
   "source": [
    "img = cv2.imread('./tmp_im2/1.jpg')\n",
    "#random x, random y\n",
    "rx = round(random.uniform(0.8, 1.4),1)\n",
    "ry = round(random.uniform(0.8, 1.4),1)\n",
    "dst = cv2.resize(img,None,fx = rx,fy = ry,interpolation = cv2.INTER_LINEAR)\n",
    "\n",
    "cv2.imwrite('./tmp_im2/tmp2.jpg',dst)"
   ]
  },
  {
   "cell_type": "code",
   "execution_count": 67,
   "metadata": {
    "collapsed": true
   },
   "outputs": [
    {
     "name": "stdout",
     "output_type": "stream",
     "text": [
      "[3]\n",
      "[2]\n",
      "[3]\n",
      "[2]\n",
      "[2]\n"
     ]
    }
   ],
   "source": [
    "a = [1,2,3]\n",
    "for i in range(5):\n",
    "    b=random.sample(a,1)\n",
    "    print(b)"
   ]
  },
  {
   "cell_type": "code",
   "execution_count": 81,
   "metadata": {},
   "outputs": [
    {
     "data": {
      "text/plain": [
       "392"
      ]
     },
     "execution_count": 81,
     "metadata": {},
     "output_type": "execute_result"
    }
   ],
   "source": [
    "b = []\n",
    "for i in os.listdir('tmp_im'):\n",
    "    b.append(int(i[:-4]))\n",
    "    \n",
    "b.sort()\n",
    "b[-1]\n"
   ]
  },
  {
   "cell_type": "code",
   "execution_count": null,
   "metadata": {},
   "outputs": [],
   "source": []
  },
  {
   "cell_type": "code",
   "execution_count": 97,
   "metadata": {},
   "outputs": [],
   "source": [
    "fpath = './start_pos1'\n",
    "if os.path.exists(fpath):\n",
    "    shutil.rmtree(fpath)\n",
    "    shutil.copytree(fpath + ' 복사본 2',fpath)"
   ]
  },
  {
   "cell_type": "code",
   "execution_count": 126,
   "metadata": {},
   "outputs": [],
   "source": [
    "fpath = './start_pos1/2.jpg'\n"
   ]
  },
  {
   "cell_type": "code",
   "execution_count": 2,
   "metadata": {},
   "outputs": [
    {
     "name": "stdout",
     "output_type": "stream",
     "text": [
      "WARNING:tensorflow:No training configuration found in the save file, so the model was *not* compiled. Compile it manually.\n",
      "[[0.5 0.5]]\n"
     ]
    }
   ],
   "source": [
    "import tensorflow.keras\n",
    "from PIL import Image, ImageOps\n",
    "import numpy as np\n",
    "\n",
    "# Disable scientific notation for clarity\n",
    "np.set_printoptions(suppress=True)\n",
    "\n",
    "# Load the model\n",
    "model = tensorflow.keras.models.load_model('./converted_keras/keras_model.h5')\n",
    "\n",
    "# Create the array of the right shape to feed into the keras model\n",
    "# The 'length' or number of images you can put into the array is\n",
    "# determined by the first position in the shape tuple, in this case 1.\n",
    "data = np.ndarray(shape=(1, 224, 224, 3), dtype=np.float32)\n",
    "\n",
    "# Replace this with the path to your image\n",
    "image = Image.open('./ori_image/8.jpg')\n",
    "\n",
    "#resize the image to a 224x224 with the same strategy as in TM2:\n",
    "#resizing the image to be at least 224x224 and then cropping from the center\n",
    "size = (224, 224)\n",
    "image = ImageOps.fit(image, size, Image.ANTIALIAS)\n",
    "\n",
    "#turn the image into a numpy array\n",
    "image_array = np.asarray(image)\n",
    "\n",
    "# display the resized image\n",
    "# image.show()\n",
    "\n",
    "# Normalize the image\n",
    "normalized_image_array = (image_array.astype(np.float32) / 127.0) - 1\n",
    "\n",
    "# Load the image into the array\n",
    "data[0] = normalized_image_array\n",
    "\n",
    "# run the inference\n",
    "prediction = model.predict(data)\n",
    "print(prediction)\n"
   ]
  },
  {
   "cell_type": "code",
   "execution_count": null,
   "metadata": {},
   "outputs": [],
   "source": []
  }
 ],
 "metadata": {
  "kernelspec": {
   "display_name": "js_env",
   "language": "python",
   "name": "js_env"
  },
  "language_info": {
   "codemirror_mode": {
    "name": "ipython",
    "version": 3
   },
   "file_extension": ".py",
   "mimetype": "text/x-python",
   "name": "python",
   "nbconvert_exporter": "python",
   "pygments_lexer": "ipython3",
   "version": "3.8.5"
  }
 },
 "nbformat": 4,
 "nbformat_minor": 4
}
