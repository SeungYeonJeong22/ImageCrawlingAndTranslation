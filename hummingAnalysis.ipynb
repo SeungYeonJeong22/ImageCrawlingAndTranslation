{
 "cells": [
  {
   "cell_type": "markdown",
   "metadata": {},
   "source": [
    "<h1>#흥얼거린 음성데이터를 기반으로 유사한 장르 및 노래 찾기 ???? 가능 하려나</h1>"
   ]
  },
  {
   "cell_type": "code",
   "execution_count": 2,
   "metadata": {},
   "outputs": [
    {
     "name": "stderr",
     "output_type": "stream",
     "text": [
      "usage: ipykernel_launcher.py [-h] --clean_file CLEAN_FILE --noise_file\n",
      "                             NOISE_FILE\n",
      "                             [--output_clean_file OUTPUT_CLEAN_FILE]\n",
      "                             [--output_noise_file OUTPUT_NOISE_FILE]\n",
      "                             --output_noisy_file OUTPUT_NOISY_FILE --snr SNR\n",
      "ipykernel_launcher.py: error: the following arguments are required: --clean_file, --noise_file, --output_noisy_file, --snr\n"
     ]
    },
    {
     "ename": "SystemExit",
     "evalue": "2",
     "output_type": "error",
     "traceback": [
      "An exception has occurred, use %tb to see the full traceback.\n",
      "\u001b[0;31mSystemExit\u001b[0m\u001b[0;31m:\u001b[0m 2\n"
     ]
    },
    {
     "name": "stderr",
     "output_type": "stream",
     "text": [
      "/opt/anaconda3/envs/js_env/lib/python3.8/site-packages/IPython/core/interactiveshell.py:3426: UserWarning: To exit: use 'exit', 'quit', or Ctrl-D.\n",
      "  warn(\"To exit: use 'exit', 'quit', or Ctrl-D.\", stacklevel=1)\n"
     ]
    }
   ],
   "source": [
    "import argparse\n",
    "import array\n",
    "import math\n",
    "import numpy as np\n",
    "import random\n",
    "import wave\n",
    "\n",
    "def get_args():\n",
    "    parser = argparse.ArgumentParser()\n",
    "    parser.add_argument('--clean_file', type=str, required=True)\n",
    "    parser.add_argument('--noise_file', type=str, required=True)\n",
    "    parser.add_argument('--output_clean_file', type=str, default='')\n",
    "    parser.add_argument('--output_noise_file', type=str, default='')\n",
    "    parser.add_argument('--output_noisy_file', type=str, default='', required=True)\n",
    "    parser.add_argument('--snr', type=float, default='', required=True)\n",
    "    args = parser.parse_args()\n",
    "    return args\n",
    "\n",
    "def cal_adjusted_rms(clean_rms, snr):\n",
    "    a = float(snr) / 20\n",
    "    noise_rms = clean_rms / (10**a)\n",
    "    return noise_rms\n",
    "\n",
    "def cal_amp(wf):\n",
    "    buffer = wf.readframes(wf.getnframes())\n",
    "    amptitude = (np.frombuffer(buffer, dtype=\"int16\")).astype(np.float64)\n",
    "    return amptitude\n",
    "\n",
    "def cal_rms(amp):\n",
    "    return np.sqrt(np.mean(np.square(amp), axis=-1))\n",
    "\n",
    "if __name__ == '__main__':\n",
    "    args = get_args()\n",
    "    \n",
    "    clean_file = args.clean_file\n",
    "    noise_file = args.noise_file\n",
    "    \n",
    "    snr = args.snr\n",
    "    \n",
    "    clean_wav = wave.open(clean_file, \"r\")\n",
    "    noise_wav = wave.open(noise_file, \"r\")\n",
    "    \n",
    "    clean_amp = cal_amp(clean_wav)\n",
    "    noise_amp = cal_amp(noise_wav)\n",
    "    \n",
    "    start = random.randint(0, len(noise_amp)-len(clean_amp))\n",
    "    clean_rms = cal_rms(clean_amp)\n",
    "    \n",
    "    split_noise_amp = noise_amp[start: start + len(clean_amp)]\n",
    "    noise_rms = cal_rms(split_noise_amp)\n",
    "    \n",
    "    adjusted_noise_rms = cal_adjusted_rms(clean_rms, snr)\n",
    "    adjusted_noise_amp = split_noise_amp * (adjusted_noise_rms / noise_rms)\n",
    "    mixed_amp = (clean_amp + adjusted_noise_amp)\n",
    "    if (mixed_amp.max(axis=0) > 32767):\n",
    "        mixed_amp = mixed_amp * (32767/mixed_amp.max(axis=0))\n",
    "        clean_amp = clean_amp * (32767/mixed_amp.max(axis=0))\n",
    "        adjusted_noise_amp = adjusted_noise_amp * (32767/mixed_amp.max(axis=0))\n",
    "    noisy_wave = wave.Wave_write(args.output_noisy_file)\n",
    "    noisy_wave.setparams(clean_wav.getparams())\n",
    "    noisy_wave.writeframes(array.array('h', mixed_amp.astype(np.int16)).tostring() )\n",
    "    noisy_wave.close()\n",
    "    clean_wave = wave.Wave_write(args.output_clean_file)\n",
    "    clean_wave.setparams(clean_wav.getparams())\n",
    "    clean_wave.writeframes(array.array('h', clean_amp.astype(np.int16)).tostring() )\n",
    "    clean_wave.close()\n",
    "    noise_wave = wave.Wave_write(args.output_noise_file)\n",
    "    noise_wave.setparams(clean_wav.getparams())\n",
    "    noise_wave.writeframes(array.array('h', adjusted_noise_amp.astype(np.int16)).tostring() )\n",
    "    noise_wave.close()"
   ]
  },
  {
   "cell_type": "code",
   "execution_count": null,
   "metadata": {},
   "outputs": [],
   "source": []
  }
 ],
 "metadata": {
  "kernelspec": {
   "display_name": "js_env",
   "language": "python",
   "name": "js_env"
  },
  "language_info": {
   "codemirror_mode": {
    "name": "ipython",
    "version": 3
   },
   "file_extension": ".py",
   "mimetype": "text/x-python",
   "name": "python",
   "nbconvert_exporter": "python",
   "pygments_lexer": "ipython3",
   "version": "3.8.5"
  }
 },
 "nbformat": 4,
 "nbformat_minor": 4
}
